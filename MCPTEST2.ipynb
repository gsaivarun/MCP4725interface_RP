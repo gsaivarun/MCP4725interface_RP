{
 "cells": [
  {
   "cell_type": "code",
   "execution_count": 2,
   "id": "156cecb3-77f5-4664-bf71-bd1e226a7698",
   "metadata": {},
   "outputs": [
    {
     "name": "stdin",
     "output_type": "stream",
     "text": [
      "Enter a voltage from 0 to 5 (6 to exit) 1\n"
     ]
    },
    {
     "name": "stdout",
     "output_type": "stream",
     "text": [
      "Binary array: [0, 0, 1, 1, 0, 0, 1, 1, 0, 0, 1, 1]\n",
      "Low byte:0b110000\n",
      "High byte: 0b110011\n"
     ]
    },
    {
     "name": "stdin",
     "output_type": "stream",
     "text": [
      "Enter a voltage from 0 to 5 (6 to exit) 1\n"
     ]
    },
    {
     "name": "stdout",
     "output_type": "stream",
     "text": [
      "Binary array: [0, 0, 1, 1, 0, 0, 1, 1, 0, 0, 1, 1]\n",
      "Low byte:0b110000\n",
      "High byte: 0b110011\n"
     ]
    },
    {
     "name": "stdin",
     "output_type": "stream",
     "text": [
      "Enter a voltage from 0 to 5 (6 to exit) 2\n"
     ]
    },
    {
     "name": "stdout",
     "output_type": "stream",
     "text": [
      "Binary array: [0, 1, 1, 0, 0, 1, 1, 0, 0, 1, 1, 0]\n",
      "Low byte:0b1100000\n",
      "High byte: 0b1100110\n"
     ]
    },
    {
     "name": "stdin",
     "output_type": "stream",
     "text": [
      "Enter a voltage from 0 to 5 (6 to exit) 3\n"
     ]
    },
    {
     "name": "stdout",
     "output_type": "stream",
     "text": [
      "Binary array: [1, 0, 0, 1, 1, 0, 0, 1, 1, 0, 0, 1]\n",
      "Low byte:0b10010000\n",
      "High byte: 0b10011001\n"
     ]
    },
    {
     "name": "stdin",
     "output_type": "stream",
     "text": [
      "Enter a voltage from 0 to 5 (6 to exit) 4\n"
     ]
    },
    {
     "name": "stdout",
     "output_type": "stream",
     "text": [
      "Binary array: [1, 1, 0, 0, 1, 1, 0, 0, 1, 1, 0, 0]\n",
      "Low byte:0b11000000\n",
      "High byte: 0b11001100\n"
     ]
    },
    {
     "name": "stdin",
     "output_type": "stream",
     "text": [
      "Enter a voltage from 0 to 5 (6 to exit) 5\n"
     ]
    },
    {
     "name": "stdout",
     "output_type": "stream",
     "text": [
      "Binary array: [1, 1, 1, 1, 1, 1, 1, 1, 1, 1, 1, 1]\n",
      "Low byte:0b11110000\n",
      "High byte: 0b11111111\n"
     ]
    },
    {
     "name": "stdin",
     "output_type": "stream",
     "text": [
      "Enter a voltage from 0 to 5 (6 to exit) 6\n"
     ]
    }
   ],
   "source": [
    "from smbus2 import SMBus\n",
    "import time\n",
    "\n",
    "# Define I2C bus and MCP4725 address\n",
    "I2C_BUS = 0  # Ensure this matches your I2C bus\n",
    "MCP4725_ADDR = 0x60  # Default I2C address for MCP4725\n",
    "\n",
    "# Initialize I2C bus\n",
    "bus = SMBus(I2C_BUS)\n",
    "\n",
    "# Function to set MCP4725 output voltage using manual high and low byte values\n",
    "def set_dac_voltage(v):\n",
    "    #Convert to bit value\n",
    "    voltage = int((v/5.0)*4095)\n",
    "\n",
    "    #Extracting bit array\n",
    "    binary_value = decimal_to_binary(voltage)\n",
    "    print(f\"Binary array: {binary_value}\")\n",
    "\n",
    "    #Extracting lower bit array\n",
    "    low_byte_array = binary_extract(binary_value, 8, 0)  \n",
    "    low_byte = byte_conversion(low_byte_array)\n",
    "    print(f\"Low byte:{bin(low_byte)}\")\n",
    "\n",
    "    #Exctracting higher bit array\n",
    "    high_byte_array = binary_extract(binary_value, 8, 1)\n",
    "    high_byte = byte_conversion(high_byte_array)\n",
    "    print(f\"High byte: {bin(high_byte)}\")\n",
    "    \n",
    "    # Write data to MCP4725\n",
    "    bus.write_i2c_block_data(MCP4725_ADDR, 0x40, [high_byte, low_byte])\n",
    "    \n",
    "def decimal_to_binary(num):\n",
    "    bin_array = [0] * 12\n",
    "    for i in range(12):\n",
    "        bin_array[11 - i] = (num >> i) & 1\n",
    "    return bin_array\n",
    "\n",
    "def binary_extract(bin_array, shift, flag):\n",
    "    if(flag==0):\n",
    "        result_array = [0] * 12\n",
    "        for i in range(12 - shift):\n",
    "            result_array[i] = bin_array[i]\n",
    "        for i in range(12 - shift, 12):\n",
    "            result_array[i] = 0\n",
    "    elif(flag==1):\n",
    "        result_array = [0]*12\n",
    "        for i in range(8):\n",
    "            result_array[i] = bin_array[12 - shift +i]\n",
    "    return result_array\n",
    "\n",
    "def byte_conversion(byte_array):\n",
    "    byte = 0\n",
    "    for i in range(8):\n",
    "        byte |= byte_array[i] << (7 - i)\n",
    "    return byte\n",
    "\n",
    "while True:\n",
    "    set_voltage = int(input(\"Enter a voltage from 0 to 5 (6 to exit)\"))\n",
    "    if(set_voltage==6):\n",
    "        break\n",
    "    elif(set_voltage >= 0 and set_voltage <= 5):\n",
    "        set_dac_voltage(int(set_voltage))\n",
    "    else:\n",
    "        print(\"Error: Enter a voltage between 0 and 5\")\n",
    "\n",
    "# Close I2C bus when done\n",
    "bus.close()"
   ]
  },
  {
   "cell_type": "code",
   "execution_count": null,
   "id": "f072a137-977d-47c0-8392-ca7324e71001",
   "metadata": {},
   "outputs": [],
   "source": []
  }
 ],
 "metadata": {
  "kernelspec": {
   "display_name": "Python 3 (RP api)",
   "language": "python",
   "name": "python3"
  },
  "language_info": {
   "codemirror_mode": {
    "name": "ipython",
    "version": 3
   },
   "file_extension": ".py",
   "mimetype": "text/x-python",
   "name": "python",
   "nbconvert_exporter": "python",
   "pygments_lexer": "ipython3",
   "version": "3.10.12"
  }
 },
 "nbformat": 4,
 "nbformat_minor": 5
}
